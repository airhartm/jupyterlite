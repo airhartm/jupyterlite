{
 "cells": [
  {
   "cell_type": "code",
   "execution_count": null,
   "id": "af0941e4-0f10-4686-a40c-159eaa952cc8",
   "metadata": {},
   "outputs": [],
   "source": [
    "# define hierarchical relationships and \n",
    "# organize data into parent-child categories\n",
    "\n",
    "taxonomy = {\n",
    "    \"Website\": {\n",
    "        \"Frontend\": [\"HTML\", \"CSS\", \"JavaScript\"],\n",
    "        \"Backend\": [\"Flask\", \"Django\"],\n",
    "        \"Database\": [\"PostgreSQL\", \"SQLite\"]\n",
    "    }\n",
    "}\n",
    "\n",
    "def display_taxonomy(taxonomy, indent=0):\n",
    "    for category, subcategories in taxonomy.items():\n",
    "        print(\"  \" * indent + f\"- {category}\")\n",
    "        if isinstance(subcategories, dict):\n",
    "            display_taxonomy(subcategories, indent + 1)\n",
    "        else:\n",
    "            for subcategory in subcategories:\n",
    "                print(\"  \" * (indent + 1) + f\"- {subcategory}\")\n",
    "\n",
    "display_taxonomy(taxonomy)"
   ]
  },
  {
   "cell_type": "code",
   "execution_count": null,
   "id": "86c904cc-3ab2-4c43-bc36-8d01a6830c7e",
   "metadata": {},
   "outputs": [],
   "source": [
    "# categorize machine learning algorithms\n",
    "\n",
    "ml_taxonomy = {\n",
    "    \"Machine Learning\": {\n",
    "        \"Supervised Learning\": [\"Regression\", \"Classification\"],\n",
    "        \"Unsupervised Learning\": [\"Clustering\", \"Dimensionality Reduction\"],\n",
    "        \"Reinforcement Learning\": [\"Q-Learning\", \"Policy Gradient\"]\n",
    "    }\n",
    "}\n",
    "\n",
    "display_taxonomy(ml_taxonomy)"
   ]
  },
  {
   "cell_type": "code",
   "execution_count": null,
   "id": "23cb4f16-77ef-4158-873e-abee3563487b",
   "metadata": {},
   "outputs": [],
   "source": [
    "# categorize products\n",
    "\n",
    "ecommerce_taxonomy = {\n",
    "    \"Products\": {\n",
    "        \"Electronics\": [\"Smartphones\", \"Laptops\", \"Cameras\"],\n",
    "        \"Clothing\": [\"Men\", \"Women\", \"Children\"],\n",
    "        \"Home Appliances\": [\"Refrigerators\", \"Microwaves\", \"Washing Machines\"]\n",
    "    }\n",
    "}\n",
    "\n",
    "display_taxonomy(ecommerce_taxonomy)"
   ]
  },
  {
   "cell_type": "code",
   "execution_count": null,
   "id": "bf0d9100-5dca-4208-b9ff-c70dbcf295d3",
   "metadata": {},
   "outputs": [],
   "source": [
    "# categorize species\n",
    "\n",
    "biology_taxonomy = {\n",
    "    \"Kingdom\": {\n",
    "        \"Animalia\": {\n",
    "            \"Phylum\": {\n",
    "                \"Chordata\": [\"Mammals\", \"Birds\", \"Reptiles\"]\n",
    "            }\n",
    "        },\n",
    "        \"Plantae\": {\n",
    "            \"Phylum\": {\n",
    "                \"Angiosperms\": [\"Monocots\", \"Dicots\"]\n",
    "            }\n",
    "        }\n",
    "    }\n",
    "}\n",
    "\n",
    "display_taxonomy(biology_taxonomy)"
   ]
  },
  {
   "cell_type": "code",
   "execution_count": null,
   "id": "163d7f09-869f-4b40-b386-c451597153bd",
   "metadata": {},
   "outputs": [],
   "source": [
    "# categorize library books\n",
    "\n",
    "library_taxonomy = {\n",
    "    \"Library\": {\n",
    "        \"Fiction\": [\"Mystery\", \"Fantasy\", \"Science Fiction\"],\n",
    "        \"Non-Fiction\": [\"History\", \"Biography\", \"Self-Help\"],\n",
    "        \"Reference\": [\"Dictionaries\", \"Encyclopedias\"]\n",
    "    }\n",
    "}\n",
    "\n",
    "display_taxonomy(library_taxonomy)"
   ]
  }
 ],
 "metadata": {
  "kernelspec": {
   "display_name": "Python 3",
   "language": "python",
   "name": "python3"
  },
  "language_info": {
   "codemirror_mode": {
    "name": "ipython",
    "version": 3
   },
   "file_extension": ".py",
   "mimetype": "text/x-python",
   "name": "python",
   "nbconvert_exporter": "python",
   "pygments_lexer": "ipython3",
   "version": "3.12.4"
  }
 },
 "nbformat": 4,
 "nbformat_minor": 5
}
